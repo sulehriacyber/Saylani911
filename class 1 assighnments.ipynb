{
 "cells": [
  {
   "cell_type": "markdown",
   "id": "e62a2f80",
   "metadata": {},
   "source": [
    "# Question no =2 "
   ]
  },
  {
   "cell_type": "code",
   "execution_count": 22,
   "id": "f9c3d7b2",
   "metadata": {},
   "outputs": [
    {
     "name": "stdout",
     "output_type": "stream",
     "text": [
      "enter the value:45\n",
      "eligible vor vote\n"
     ]
    }
   ],
   "source": [
    "age=17\n",
    "age=int(input(\"enter the value:\"))\n",
    "if age>17:\n",
    "    print(\"eligible vor vote\")\n",
    "else:\n",
    "    (\"this is not eligible for vote\")"
   ]
  },
  {
   "cell_type": "markdown",
   "id": "ff34d129",
   "metadata": {},
   "source": [
    "# Question no=3"
   ]
  },
  {
   "cell_type": "code",
   "execution_count": 3,
   "id": "a95fc30a",
   "metadata": {},
   "outputs": [
    {
     "name": "stdout",
     "output_type": "stream",
     "text": [
      "enter the value:15\n",
      "thsi is odd number\n"
     ]
    }
   ],
   "source": [
    "a=10\n",
    "b=15\n",
    "a=int(input(\"enter the value:\"))\n",
    "if a==10:\n",
    "    print(\"this is even number\")\n",
    "\n",
    "elif a==15:\n",
    "    print(\"thsi is odd number\")\n",
    "else:\n",
    "    print(\"wrong number\")"
   ]
  },
  {
   "cell_type": "markdown",
   "id": "c1edf767",
   "metadata": {},
   "source": [
    "#  Question no=4"
   ]
  },
  {
   "cell_type": "code",
   "execution_count": 4,
   "id": "529240f6",
   "metadata": {},
   "outputs": [
    {
     "name": "stdout",
     "output_type": "stream",
     "text": [
      "enter the value a:7\n",
      "enter the value b49\n",
      "this is divisible\n"
     ]
    }
   ],
   "source": [
    "a=7\n",
    "b=49\n",
    "a=int(input(\"enter the value a:\"))\n",
    "b=int(input(\"enter the value b\"))\n",
    "if a%b:\n",
    "    print(\"this is divisible\")\n",
    "    \n",
    "elif a==b:\n",
    "    print(\"this is not divisible \")\n",
    "else:\n",
    "    (\"fail\")"
   ]
  },
  {
   "cell_type": "markdown",
   "id": "4ed3875b",
   "metadata": {},
   "source": [
    "# Question no=5"
   ]
  },
  {
   "cell_type": "code",
   "execution_count": 5,
   "id": "25857688",
   "metadata": {},
   "outputs": [
    {
     "name": "stdout",
     "output_type": "stream",
     "text": [
      "enter the number:45\n",
      "hello\n"
     ]
    }
   ],
   "source": [
    "num=45\n",
    "num=int(input(\"enter the number:\"))\n",
    "if num%5==0:\n",
    "    print(\"hello\")\n",
    "else:\n",
    "    print(\"bye\")"
   ]
  },
  {
   "cell_type": "markdown",
   "id": "edc9dd68",
   "metadata": {},
   "source": [
    "# Question no=7"
   ]
  },
  {
   "cell_type": "code",
   "execution_count": 6,
   "id": "926e53ed",
   "metadata": {},
   "outputs": [
    {
     "name": "stdout",
     "output_type": "stream",
     "text": [
      "enter the no:45\n",
      "last digit is: 5\n"
     ]
    }
   ],
   "source": [
    "n=int(input(\"enter the no:\"))\n",
    "print('last digit is:', n%10)"
   ]
  },
  {
   "cell_type": "markdown",
   "id": "5533bb64",
   "metadata": {},
   "source": [
    "# Question no=8"
   ]
  },
  {
   "cell_type": "code",
   "execution_count": 23,
   "id": "2917d7e3",
   "metadata": {},
   "outputs": [
    {
     "name": "stdout",
     "output_type": "stream",
     "text": [
      "Enter a number: 12\n",
      "The last digit (2) is not divisible by 3.\n"
     ]
    }
   ],
   "source": [
    "number = int(input(\"Enter a number: \"))\n",
    "last_digit = number % 10\n",
    "if last_digit % 3 == 0:\n",
    "    print(f\"The last digit ({last_digit}) is divisible by 3.\")\n",
    "else:\n",
    "    print(f\"The last digit ({last_digit}) is not divisible by 3.\")"
   ]
  },
  {
   "cell_type": "markdown",
   "id": "a34cb269",
   "metadata": {},
   "source": [
    "# Question no=9"
   ]
  },
  {
   "cell_type": "code",
   "execution_count": 8,
   "id": "38cd0a2e",
   "metadata": {},
   "outputs": [
    {
     "name": "stdout",
     "output_type": "stream",
     "text": [
      "enter the value10\n",
      "enter the value:10\n",
      "this is square\n"
     ]
    }
   ],
   "source": [
    "l=10\n",
    "b=20\n",
    "l=int(input(\"enter the value\"))\n",
    "b=int(input(\"enter the value:\"))\n",
    "if l*b:\n",
    "    print(\"this is square\")\n",
    "else:\n",
    "    print(\"this is triangle\")"
   ]
  },
  {
   "cell_type": "markdown",
   "id": "ecb0044b",
   "metadata": {},
   "source": [
    "# Question no=10"
   ]
  },
  {
   "cell_type": "code",
   "execution_count": 9,
   "id": "f96d1dd8",
   "metadata": {},
   "outputs": [
    {
     "name": "stdout",
     "output_type": "stream",
     "text": [
      "enter the value1:15\n",
      "enter tha value2:12\n",
      "this is greater\n"
     ]
    }
   ],
   "source": [
    "a=20\n",
    "b=10\n",
    "a=int(input(\"enter the value1:\"))\n",
    "b=int(input(\"enter tha value2:\"))\n",
    "if a>b:\n",
    "    print(\"this is greater\")\n",
    "    \n",
    "elif a==b:\n",
    "    print(\"this is equal\")\n",
    "else:\n",
    "    print(\"this is not required no\")"
   ]
  },
  {
   "cell_type": "markdown",
   "id": "e2e64db3",
   "metadata": {},
   "source": [
    "# Question no=11"
   ]
  },
  {
   "cell_type": "code",
   "execution_count": 24,
   "id": "830b44ed",
   "metadata": {},
   "outputs": [
    {
     "name": "stdout",
     "output_type": "stream",
     "text": [
      "Enter the quantity of units purchased: 1000\n",
      "Congratulations! You get a 10% discount.\n",
      "Total cost after discount: $90000.00\n"
     ]
    }
   ],
   "source": [
    "cost_per_unit = 100\n",
    "quantity = int(input(\"Enter the quantity of units purchased: \"))\n",
    "total_cost = quantity * cost_per_unit\n",
    "if total_cost > 1000:\n",
    "    discount = 0.10 * total_cost\n",
    "    total_cost -= discount\n",
    "    print(f\"Congratulations! You get a 10% discount.\")\n",
    "    print(f\"Total cost after discount: ${total_cost:.2f}\")\n",
    "else:\n",
    "    print(f\"Total cost: ${total_cost:.2f}\")"
   ]
  },
  {
   "cell_type": "markdown",
   "id": "ad1f5d4e",
   "metadata": {},
   "source": [
    "# Question no=12"
   ]
  },
  {
   "cell_type": "code",
   "execution_count": 11,
   "id": "7e86ae01",
   "metadata": {},
   "outputs": [
    {
     "name": "stdout",
     "output_type": "stream",
     "text": [
      "enter the value:45\n",
      "F grade\n"
     ]
    }
   ],
   "source": [
    "marks=int(input(\"enter the value:\"))\n",
    "grade=\"\"\n",
    "if (marks>=90):\n",
    "    print(\"A grade\")\n",
    "elif (marks>=80):\n",
    "    print(\"B grade\")\n",
    "elif (marks>=70):\n",
    "    print(\"C grade\")\n",
    "elif (marks>=60):\n",
    "    print(\"D grade\")\n",
    "elif (marks>=50):\n",
    "    print(\"E grade\")\n",
    "elif (marks>=40):\n",
    "    print(\"F grade\")\n",
    "else:\n",
    "    (\"fail\")"
   ]
  },
  {
   "cell_type": "markdown",
   "id": "d1562f59",
   "metadata": {},
   "source": [
    "# Question no=14"
   ]
  },
  {
   "cell_type": "code",
   "execution_count": 13,
   "id": "9b1d970e",
   "metadata": {},
   "outputs": [
    {
     "name": "stdout",
     "output_type": "stream",
     "text": [
      "Enter the number of classes held: 22\n",
      "Enter the number of classes attended: 10\n",
      "Do you have a medical cause? (Y/N): y\n",
      "Percentage of classes attended: 45.45%\n",
      "You are allowed to sit in the exam.\n",
      "Percentage of classes attended: 45.45%\n",
      "Sorry, you are not allowed to sit in the exam due to low attendance.\n"
     ]
    }
   ],
   "source": [
    "classes_held = int(input(\"Enter the number of classes held: \"))\n",
    "classes_attended = int(input(\"Enter the number of classes attended: \"))\n",
    "attendance_percentage = (classes_attended / classes_held) * 100\n",
    "medical_cause = input(\"Do you have a medical cause? (Y/N): \")\n",
    "if attendance_percentage >= 75 or medical_cause.upper() == 'Y':\n",
    "    print(f\"Percentage of classes attended: {attendance_percentage:.2f}%\")\n",
    "    print(\"You are allowed to sit in the exam.\")\n",
    "    print(f\"Percentage of classes attended: {attendance_percentage:.2f}%\")\n",
    "    print(\"Sorry, you are not allowed to sit in the exam due to low attendance.\")"
   ]
  },
  {
   "cell_type": "markdown",
   "id": "e05625ae",
   "metadata": {},
   "source": [
    "# Question no=15"
   ]
  },
  {
   "cell_type": "code",
   "execution_count": 14,
   "id": "fa1dba2f",
   "metadata": {},
   "outputs": [
    {
     "name": "stdout",
     "output_type": "stream",
     "text": [
      "Enter the quantity of units purchased: 10\n",
      "Total cost: $1000.00\n"
     ]
    }
   ],
   "source": [
    "cost_per_unit = 100\n",
    "quantity = int(input(\"Enter the quantity of units purchased: \"))\n",
    "total_cost = quantity * cost_per_unit\n",
    "if total_cost > 1000:\n",
    "    discount = 0.10 * total_cost\n",
    "    total_cost -= discount\n",
    "    print(f\"Congratulations! You get a 10% discount.\")\n",
    "    print(f\"Total cost after discount: ${total_cost:.2f}\")\n",
    "else:\n",
    "    print(f\"Total cost: ${total_cost:.2f}\")"
   ]
  },
  {
   "cell_type": "markdown",
   "id": "edcd4d76",
   "metadata": {},
   "source": [
    "# Question no=16"
   ]
  },
  {
   "cell_type": "code",
   "execution_count": 15,
   "id": "be3590c2",
   "metadata": {},
   "outputs": [
    {
     "name": "stdout",
     "output_type": "stream",
     "text": [
      "enter tha value1:4\n",
      "enter tha value2:2000\n",
      "this is leap year\n"
     ]
    }
   ],
   "source": [
    "a=4\n",
    "b=2000,1900,2100\n",
    "a=int(input(\"enter tha value1:\"))\n",
    "b=int(input(\"enter tha value2:\"))\n",
    "if a==4:\n",
    "    print(\"this is leap year\")\n",
    "elif a!=4:\n",
    "    print(\"this is continue year\")\n",
    "else:\n",
    "    print(\"calender issued\")"
   ]
  },
  {
   "cell_type": "markdown",
   "id": "6e11cfcc",
   "metadata": {},
   "source": [
    "# Question no=17"
   ]
  },
  {
   "cell_type": "code",
   "execution_count": 16,
   "id": "54ec3fde",
   "metadata": {},
   "outputs": [
    {
     "name": "stdout",
     "output_type": "stream",
     "text": [
      "Enter your age: 22\n",
      "Enter your gender (M or F): m\n",
      "Enter your marital status (Y or N): y\n",
      "You may work anywhere.\n"
     ]
    }
   ],
   "source": [
    "age = int(input(\"Enter your age: \"))\n",
    "gender = input(\"Enter your gender (M or F): \").upper()\n",
    "marital_status = input(\"Enter your marital status (Y or N): \").upper()\n",
    "if gender == 'F':\n",
    "    print(\"You will work in urban areas.\")\n",
    "elif gender == 'M' and 20 <= age <= 40:\n",
    "    print(\"You may work anywhere.\")\n",
    "elif gender == 'M' and 40 <= age <= 60:\n",
    "    print(\"You will work in urban areas only.\")\n",
    "else:\n",
    "    print(\"ERROR\")"
   ]
  },
  {
   "cell_type": "markdown",
   "id": "757adec4",
   "metadata": {},
   "source": [
    "# Question no=6"
   ]
  },
  {
   "cell_type": "code",
   "execution_count": 17,
   "id": "a20c3d54",
   "metadata": {},
   "outputs": [
    {
     "name": "stdout",
     "output_type": "stream",
     "text": [
      "Enter the number of units: 12\n"
     ]
    }
   ],
   "source": [
    "units = int(input(\"Enter the number of units: \"))\n",
    "if units <= 100:\n",
    "    bill_amount = 0\n",
    "elif units <= 300:\n",
    "    bill_amount = (units - 100) * 5\n",
    "elif units > 300:\n",
    "    bill_amount = 200 * 5 + (units - 300) * 10\n",
    "    print(f\"Total bill amount is Rs.{bill_amount}\")"
   ]
  },
  {
   "cell_type": "markdown",
   "id": "9c93f6c6",
   "metadata": {},
   "source": [
    "# Question no=13"
   ]
  },
  {
   "cell_type": "code",
   "execution_count": 20,
   "id": "9092456d",
   "metadata": {},
   "outputs": [
    {
     "name": "stdout",
     "output_type": "stream",
     "text": [
      "enter tha value:18\n",
      "this is youngest\n"
     ]
    }
   ],
   "source": [
    "age=18\n",
    "age=80\n",
    "age=10\n",
    "age=int(input(\"enter tha value:\"))\n",
    "if age==10:\n",
    "    print(\"this is child\")\n",
    "    \n",
    "elif age==18:\n",
    "    print(\"this is youngest\")\n",
    "elif age==80:\n",
    "    print(\"this is oldest\")\n",
    "else:\n",
    "    print(\"new born\")"
   ]
  },
  {
   "cell_type": "markdown",
   "id": "0c0453d7",
   "metadata": {},
   "source": [
    "# Question no=1"
   ]
  },
  {
   "cell_type": "code",
   "execution_count": 21,
   "id": "9bc697d2",
   "metadata": {},
   "outputs": [
    {
     "name": "stdout",
     "output_type": "stream",
     "text": [
      "Enter your salary: 2555\n",
      "Enter your years of service: 5\n",
      "Sorry, you are not eligible for a bonus.\n"
     ]
    }
   ],
   "source": [
    "salary = float(input(\"Enter your salary: \"))\n",
    "years_of_service = int(input(\"Enter your years of service: \"))\n",
    "if years_of_service > 5:\n",
    "    bonus_percentage = 5\n",
    "    bonus_amount = (bonus_percentage / 100) * salary\n",
    "    print(f\"Congratulations! You are eligible for a {bonus_percentage}% bonus.\")\n",
    "    print(f\"Net Bonus Amount: ${bonus_amount:.2f}\")\n",
    "else:\n",
    "    print(\"Sorry, you are not eligible for a bonus.\")"
   ]
  }
 ],
 "metadata": {
  "kernelspec": {
   "display_name": "Python 3 (ipykernel)",
   "language": "python",
   "name": "python3"
  },
  "language_info": {
   "codemirror_mode": {
    "name": "ipython",
    "version": 3
   },
   "file_extension": ".py",
   "mimetype": "text/x-python",
   "name": "python",
   "nbconvert_exporter": "python",
   "pygments_lexer": "ipython3",
   "version": "3.11.5"
  }
 },
 "nbformat": 4,
 "nbformat_minor": 5
}
